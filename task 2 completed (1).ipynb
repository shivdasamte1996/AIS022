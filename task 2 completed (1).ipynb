{
 "cells": [
  {
   "cell_type": "markdown",
   "metadata": {},
   "source": [
    "## Amate Shivdas Maruti\n",
    "\n",
    "## ID:AIS022"
   ]
  },
  {
   "cell_type": "markdown",
   "metadata": {},
   "source": [
    "### Arrays and String:"
   ]
  },
  {
   "cell_type": "markdown",
   "metadata": {},
   "source": [
    "### 1. What is an array?"
   ]
  },
  {
   "cell_type": "markdown",
   "metadata": {},
   "source": [
    "Ans: An array is an object that stores a group of elements or (values) of same datatypes. Arrays can store only one type of data. for example-integer type value or string or character type values."
   ]
  },
  {
   "cell_type": "markdown",
   "metadata": {},
   "source": [
    "### 2. What is difference between array and list"
   ]
  },
  {
   "cell_type": "markdown",
   "metadata": {},
   "source": [
    "Ans:List is similar to an array that consists f group of elements. A list can stores a group of elements of different datatypes. List do not have a fixed size.\n",
    " \n",
    " An array is an object that stores a group of elements or (values) of same datatypes. Array have a fixed sized."
   ]
  },
  {
   "cell_type": "markdown",
   "metadata": {},
   "source": [
    "### 3. How to change the shape of an array?\n",
    "Ans- We can used reshape() function to change the shape of an array. for example- arr = arange(10)"
   ]
  },
  {
   "cell_type": "code",
   "execution_count": 2,
   "metadata": {},
   "outputs": [
    {
     "name": "stdout",
     "output_type": "stream",
     "text": [
      "[0 1 2 3 4 5 6 7 8 9]\n",
      "[[0 1 2 3 4]\n",
      " [5 6 7 8 9]]\n"
     ]
    }
   ],
   "source": [
    "import numpy as np\n",
    "arr=np.arange(10)\n",
    "print(arr)\n",
    "v=arr.reshape(2,5)\n",
    "print(v)"
   ]
  },
  {
   "cell_type": "markdown",
   "metadata": {},
   "source": [
    "### 4. What does the name.strip()do?\n",
    "Ans: The strip() function is used to remove the space of a string from both left as well as rith side."
   ]
  },
  {
   "cell_type": "code",
   "execution_count": 3,
   "metadata": {},
   "outputs": [
    {
     "data": {
      "text/plain": [
       "'python'"
      ]
     },
     "execution_count": 3,
     "metadata": {},
     "output_type": "execute_result"
    }
   ],
   "source": [
    "str1=\" python \"\n",
    "str1.strip()"
   ]
  },
  {
   "cell_type": "markdown",
   "metadata": {},
   "source": [
    "### 5. When we use triple single or triple double quotes to define a string?"
   ]
  },
  {
   "cell_type": "markdown",
   "metadata": {},
   "source": [
    "Ans: When we want to dislay the paragraph or to print multiple lines then we use single('''  ''') or (\"\"\"  \"\"\") triple quotes."
   ]
  },
  {
   "cell_type": "markdown",
   "metadata": {},
   "source": [
    "### 6. Create a character type array using numpy?"
   ]
  },
  {
   "cell_type": "code",
   "execution_count": 7,
   "metadata": {},
   "outputs": [
    {
     "name": "stdout",
     "output_type": "stream",
     "text": [
      "['a' 'b' 'c' 'd']\n"
     ]
    },
    {
     "data": {
      "text/plain": [
       "numpy.ndarray"
      ]
     },
     "execution_count": 7,
     "metadata": {},
     "output_type": "execute_result"
    }
   ],
   "source": [
    "import numpy as np\n",
    "aar1=np.array(['a','b','c','d'])\n",
    "print(aar1)\n",
    "type(aar1)"
   ]
  },
  {
   "cell_type": "markdown",
   "metadata": {},
   "source": [
    "### 7. Create a hello string and access the string character \"ll\" in python?"
   ]
  },
  {
   "cell_type": "code",
   "execution_count": 9,
   "metadata": {},
   "outputs": [
    {
     "name": "stdout",
     "output_type": "stream",
     "text": [
      "hello\n",
      "ll\n"
     ]
    }
   ],
   "source": [
    "str_1=\"hello\"\n",
    "print(str_1)\n",
    "print(str_1[2:4])"
   ]
  },
  {
   "cell_type": "markdown",
   "metadata": {},
   "source": [
    "### 8) Create an array to get largest and smallest number using minimum and maximum function?"
   ]
  },
  {
   "cell_type": "code",
   "execution_count": 13,
   "metadata": {},
   "outputs": [
    {
     "name": "stdout",
     "output_type": "stream",
     "text": [
      "[22 40 79 90 12]\n",
      "12\n",
      "90\n"
     ]
    }
   ],
   "source": [
    "from numpy import *\n",
    "arr1=np.array([22,40,79,90,12,])\n",
    "print(arr1)\n",
    "a=min(arr1)\n",
    "print(a)\n",
    "b=max(arr1)\n",
    "print(b)"
   ]
  },
  {
   "cell_type": "markdown",
   "metadata": {},
   "source": [
    "### 9. If name is “core python” then access the \"python\" from name and reverse \"python\" using slicing?"
   ]
  },
  {
   "cell_type": "code",
   "execution_count": 14,
   "metadata": {},
   "outputs": [
    {
     "name": "stdout",
     "output_type": "stream",
     "text": [
      "python\n",
      "nohtyp\n"
     ]
    }
   ],
   "source": [
    "name=\"core python\"\n",
    "a=name[5:11]\n",
    "print(a)\n",
    "b=name[-1:-7:-1]\n",
    "print(b)"
   ]
  },
  {
   "cell_type": "markdown",
   "metadata": {},
   "source": [
    "### 10. Create an array of integer type and add element 12 using append method and remove one element using remove methods?"
   ]
  },
  {
   "cell_type": "code",
   "execution_count": 15,
   "metadata": {},
   "outputs": [
    {
     "name": "stdout",
     "output_type": "stream",
     "text": [
      "array('i', [5, 8, 4, 12])\n"
     ]
    }
   ],
   "source": [
    "from array import *\n",
    "arr1=array(\"i\",[1,5,7,8,4])\n",
    "arr1.append(12)\n",
    "arr1.remove(7)\n",
    "arr1.remove(1)\n",
    "print(arr1)"
   ]
  },
  {
   "cell_type": "markdown",
   "metadata": {},
   "source": [
    "### 11. Create a single dimensional and 3 dimensional array using numpy?"
   ]
  },
  {
   "cell_type": "code",
   "execution_count": 16,
   "metadata": {},
   "outputs": [
    {
     "name": "stdout",
     "output_type": "stream",
     "text": [
      "[0 1 2 3 4 5 6 7 8 9]\n",
      "[[4 5 6]\n",
      " [2 8 9]\n",
      " [1 2 6]]\n"
     ]
    }
   ],
   "source": [
    "import numpy as np\n",
    "arr1=np.array([1,2,3])\n",
    "arr2=np.array([[4,5,6],[2,8,9],[1,2,6]])\n",
    "print(arr)\n",
    "print(arr2)"
   ]
  },
  {
   "cell_type": "markdown",
   "metadata": {},
   "source": [
    "### 12. Create a \"Programiz\" string and convert the string into upper, lower case? and replace given string by \"program\" using replace method?"
   ]
  },
  {
   "cell_type": "code",
   "execution_count": 18,
   "metadata": {},
   "outputs": [
    {
     "name": "stdout",
     "output_type": "stream",
     "text": [
      "PROGRAMIZ programiz program\n"
     ]
    }
   ],
   "source": [
    "str=\"Programiz\"\n",
    "a=str.upper()\n",
    "b=str.lower()\n",
    "c=str.replace(\"Programiz\",\"program\")\n",
    "print(a,b,c)"
   ]
  },
  {
   "cell_type": "markdown",
   "metadata": {},
   "source": [
    "### 13. Create an two array one using linspace and another using arange function and then subract array1 from array2?"
   ]
  },
  {
   "cell_type": "code",
   "execution_count": 21,
   "metadata": {},
   "outputs": [
    {
     "name": "stdout",
     "output_type": "stream",
     "text": [
      "[ 2.  4.  6.  8. 10.]\n",
      "[12 13 14 15 16]\n",
      "[10.  9.  8.  7.  6.]\n"
     ]
    }
   ],
   "source": [
    "from numpy import *\n",
    "arr1=np.linspace(2,10,5)\n",
    "print(arr1)\n",
    "arr2=np.arange(12,17,1)\n",
    "print(arr2)\n",
    "sub=arr2-arr1\n",
    "print(sub)"
   ]
  },
  {
   "cell_type": "markdown",
   "metadata": {},
   "source": [
    "### 14. Create a \"happy new year\" string and then separate this string by(space) \" \" ?"
   ]
  },
  {
   "cell_type": "code",
   "execution_count": 23,
   "metadata": {},
   "outputs": [
    {
     "name": "stdout",
     "output_type": "stream",
     "text": [
      "['happy', 'new', 'year']\n",
      "['happy', 'new', 'year']\n"
     ]
    }
   ],
   "source": [
    "str1=\"happy new year\"\n",
    "d=str1.split(\" \")\n",
    "print(d)\n",
    "str2=\"happy:new:year\"\n",
    "d=str2.split(\":\")\n",
    "print(d)"
   ]
  },
  {
   "cell_type": "code",
   "execution_count": null,
   "metadata": {},
   "outputs": [],
   "source": []
  }
 ],
 "metadata": {
  "kernelspec": {
   "display_name": "Python 3",
   "language": "python",
   "name": "python3"
  },
  "language_info": {
   "codemirror_mode": {
    "name": "ipython",
    "version": 3
   },
   "file_extension": ".py",
   "mimetype": "text/x-python",
   "name": "python",
   "nbconvert_exporter": "python",
   "pygments_lexer": "ipython3",
   "version": "3.7.3"
  }
 },
 "nbformat": 4,
 "nbformat_minor": 2
}
