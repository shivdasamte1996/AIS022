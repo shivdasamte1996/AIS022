{
 "cells": [
  {
   "cell_type": "markdown",
   "metadata": {},
   "source": [
    "1) What is variable? And rules to declare a variable in python?\n",
    "\n",
    "Ans: variable is container of data store values.\n",
    "\n",
    "variable declare in python rules are follows:\n",
    "\n",
    "variable name must start with a letter or the underscore character.\n",
    "\n",
    "A variable name cannot start with a number.\n",
    "\n",
    "A variable name can only contain alpha-numeric characters and underscores (A-z, 0-9, and _ ).\n",
    "\n",
    "Variable names are case-sensitive.\n"
   ]
  },
  {
   "cell_type": "markdown",
   "metadata": {},
   "source": [
    "2) What are the primitive built-in types in python?\n",
    "\n",
    "Ans: integers, floats, booleans and strings these are the premitive built - in types in python."
   ]
  },
  {
   "cell_type": "markdown",
   "metadata": {},
   "source": [
    "3) What is the mutable and immutable object in Python, Which data types are immutable in Python?\n",
    "\n",
    "Ans: Mutable object: A mutable object is an object whose value can change.\n",
    "        \n",
    "  Immutable object: An immutable object is an object whose value cannot change.\n",
    "    \n",
    "  Immutable data types are integer, float, decimal, boolean value, string, tuple, and range"
   ]
  },
  {
   "cell_type": "markdown",
   "metadata": {},
   "source": [
    "4) How to get the length of the string?\n",
    "\n",
    "Ans: len(string)"
   ]
  },
  {
   "cell_type": "markdown",
   "metadata": {},
   "source": [
    "5) Which are the Relational Operators and their used in python?\n",
    "\n",
    "Ans: Relation operators are greater than (>) ,less than (<), greater than or equal to (>=), less than or equal to (<=), equals (=), not equal(!=).\n",
    "    \n",
    "The Relational Operators used for establish sort of some sort of relationship between the two operators"
   ]
  },
  {
   "cell_type": "markdown",
   "metadata": {},
   "source": [
    "6) What is the result of float (5), 10>=\"9\", 10**2, len (\"basic python\")?\n",
    "\n",
    "Ans:"
   ]
  },
  {
   "cell_type": "code",
   "execution_count": 2,
   "metadata": {},
   "outputs": [
    {
     "name": "stdout",
     "output_type": "stream",
     "text": [
      "x: 5.0\n",
      "y: True\n",
      "z: 100\n",
      "n: 12\n"
     ]
    }
   ],
   "source": [
    "x = float(5)\n",
    "y = 10>=9\n",
    "z = 10**2\n",
    "n = len(\"basic python\")\n",
    "print('x:',x)\n",
    "print('y:',y)\n",
    "print('z:',z)\n",
    "print('n:',n)"
   ]
  },
  {
   "cell_type": "markdown",
   "metadata": {},
   "source": [
    "7)What is meant by input and output? Which function is used to display output in python?\n",
    "\n",
    "Ans: Input: A function is defined as a block of organized, reusable code used to perform a single, related action.\n",
    "        \n",
    "output: An argument is a value you pass to a function when calling it. A value is a letter or a number.\n",
    "\n",
    "print() function is used to display output in python."
   ]
  },
  {
   "cell_type": "markdown",
   "metadata": {},
   "source": [
    "8) Convert any integer number into float, string, and convert float into string, integer Convert string into float, integer Coding Exercise:\n",
    "    \n",
    "Ans:1)Convert any integer number x into:\n",
    "        \n",
    " "
   ]
  },
  {
   "cell_type": "code",
   "execution_count": 3,
   "metadata": {},
   "outputs": [
    {
     "data": {
      "text/plain": [
       "4.0"
      ]
     },
     "execution_count": 3,
     "metadata": {},
     "output_type": "execute_result"
    }
   ],
   "source": [
    "x=4\n",
    "float(x)"
   ]
  },
  {
   "cell_type": "code",
   "execution_count": 4,
   "metadata": {},
   "outputs": [
    {
     "data": {
      "text/plain": [
       "'4'"
      ]
     },
     "execution_count": 4,
     "metadata": {},
     "output_type": "execute_result"
    }
   ],
   "source": [
    "x=4\n",
    "str(x)"
   ]
  },
  {
   "cell_type": "markdown",
   "metadata": {},
   "source": [
    "2) convert float into string and integer"
   ]
  },
  {
   "cell_type": "code",
   "execution_count": 11,
   "metadata": {},
   "outputs": [
    {
     "data": {
      "text/plain": [
       "'3.45'"
      ]
     },
     "execution_count": 11,
     "metadata": {},
     "output_type": "execute_result"
    }
   ],
   "source": [
    "x=3.45\n",
    "str(x)\n"
   ]
  },
  {
   "cell_type": "code",
   "execution_count": 12,
   "metadata": {},
   "outputs": [
    {
     "data": {
      "text/plain": [
       "3"
      ]
     },
     "execution_count": 12,
     "metadata": {},
     "output_type": "execute_result"
    }
   ],
   "source": [
    "int(x)"
   ]
  },
  {
   "cell_type": "markdown",
   "metadata": {},
   "source": [
    "3) convert string into float and integer"
   ]
  },
  {
   "cell_type": "code",
   "execution_count": 18,
   "metadata": {},
   "outputs": [
    {
     "name": "stdout",
     "output_type": "stream",
     "text": [
      "5.0\n",
      "5\n"
     ]
    }
   ],
   "source": [
    "x='5'\n",
    "print(float(x))\n",
    "print(int(x))"
   ]
  },
  {
   "cell_type": "markdown",
   "metadata": {},
   "source": [
    "8)Take integer number using input function from user?\n",
    "\n",
    "Ans: "
   ]
  },
  {
   "cell_type": "code",
   "execution_count": null,
   "metadata": {},
   "outputs": [],
   "source": [
    "x = int(input(\"Enter an integer\"))\n",
    "print(x)\n"
   ]
  },
  {
   "cell_type": "code",
   "execution_count": null,
   "metadata": {},
   "outputs": [],
   "source": [
    "10) Take two number using input function and find their sum?\n",
    "\n",
    "Ans:"
   ]
  },
  {
   "cell_type": "markdown",
   "metadata": {},
   "source": [
    "9)\n",
    "\n",
    "Ans: "
   ]
  },
  {
   "cell_type": "code",
   "execution_count": 1,
   "metadata": {},
   "outputs": [
    {
     "name": "stdout",
     "output_type": "stream",
     "text": [
      "Enter an integer10\n",
      "10\n"
     ]
    }
   ],
   "source": [
    "x = int(input(\"Enter an integer\"))\n",
    "print (x)"
   ]
  },
  {
   "cell_type": "markdown",
   "metadata": {},
   "source": [
    "10) \n",
    "\n",
    "Ans:"
   ]
  },
  {
   "cell_type": "code",
   "execution_count": 3,
   "metadata": {},
   "outputs": [
    {
     "name": "stdout",
     "output_type": "stream",
     "text": [
      "x:8\n",
      "y:15\n",
      "The sum of x and y is 23.0\n"
     ]
    }
   ],
   "source": [
    "number1 =input(\"x:\")\n",
    "number2 =input(\"y:\")\n",
    "sum = float(number1) + float(number2)\n",
    "print('The sum of x and y is',sum)"
   ]
  },
  {
   "cell_type": "markdown",
   "metadata": {},
   "source": [
    "10)\n",
    "\n",
    "Ans:"
   ]
  },
  {
   "cell_type": "code",
   "execution_count": 4,
   "metadata": {},
   "outputs": [
    {
     "name": "stdout",
     "output_type": "stream",
     "text": [
      "x:12\n",
      "y:4\n",
      "sum: 16.0\n",
      "mul: 48.0\n",
      "sub: 8.0\n",
      "div: 3.0\n",
      "floor_div: 3.0\n",
      "power: 20736.0\n",
      "modulus: 0.0\n"
     ]
    }
   ],
   "source": [
    "number1 =input(\"x:\")\n",
    "number2 =input(\"y:\")\n",
    "sum = float(number1) + float(number2)\n",
    "mul = float(number1) * float(number2)\n",
    "sub = float(number1) - float(number2)\n",
    "div = float(number1) / float(number2) \n",
    "floor_div = float(number1) // float(number2)\n",
    "power = float(number1) ** float(number2)\n",
    "modulus = float(number1) % float(number2)\n",
    "print('sum:',sum)\n",
    "print('mul:',mul)\n",
    "print('sub:',sub)\n",
    "print('div:',div)\n",
    "print('floor_div:',floor_div)\n",
    "print('power:',power)\n",
    "print('modulus:',modulus)"
   ]
  },
  {
   "cell_type": "markdown",
   "metadata": {},
   "source": [
    "11) \n",
    "\n",
    "Ans:"
   ]
  },
  {
   "cell_type": "code",
   "execution_count": 10,
   "metadata": {},
   "outputs": [
    {
     "name": "stdout",
     "output_type": "stream",
     "text": [
      "True\n",
      "False\n",
      "False\n"
     ]
    }
   ],
   "source": [
    "x=5\n",
    "y=6\n",
    "\n",
    "z=x\n",
    "print(x is z)\n",
    "print(x is not z)\n",
    "print(x is y)"
   ]
  },
  {
   "cell_type": "markdown",
   "metadata": {},
   "source": [
    "12)\n",
    "\n",
    "Ans:"
   ]
  },
  {
   "cell_type": "code",
   "execution_count": 11,
   "metadata": {},
   "outputs": [
    {
     "name": "stdout",
     "output_type": "stream",
     "text": [
      "Enter first string: Ais\n",
      "Enter second string: Ais\n",
      "Both strings are equal to each other.\n",
      "Ais == Ais\n"
     ]
    }
   ],
   "source": [
    "string1 = input(\"Enter first string: \")\n",
    "if string1 == 'x':\n",
    "    exit();\n",
    "else:\n",
    "    string2 = input(\"Enter second string: \")\n",
    "    if string1 == string2:\n",
    "        print(\"Both strings are equal to each other.\")\n",
    "        print(string1,\"==\",string2);\n",
    "    else:\n",
    "        print(\"Strings are not equal.\")\n",
    "        print(string1,\"!=\",string2)\n"
   ]
  },
  {
   "cell_type": "markdown",
   "metadata": {},
   "source": [
    "13)\n",
    "\n",
    "Ans:"
   ]
  },
  {
   "cell_type": "code",
   "execution_count": 13,
   "metadata": {},
   "outputs": [
    {
     "name": "stdout",
     "output_type": "stream",
     "text": [
      "value:9\n",
      "a= 9\n",
      "b= 9\n",
      "c= 9\n"
     ]
    }
   ],
   "source": [
    "a = b = c = input(\"value:\")\n",
    "\n",
    "print('a=',a) \n",
    "print('b=',b) \n",
    "print('c=',c)"
   ]
  },
  {
   "cell_type": "markdown",
   "metadata": {},
   "source": [
    "14)How to print address of variables in python?\n",
    "\n",
    "Ans:"
   ]
  },
  {
   "cell_type": "code",
   "execution_count": 14,
   "metadata": {},
   "outputs": [
    {
     "data": {
      "text/plain": [
       "140708639249344"
      ]
     },
     "execution_count": 14,
     "metadata": {},
     "output_type": "execute_result"
    }
   ],
   "source": [
    "x=5\n",
    "id(x)"
   ]
  },
  {
   "cell_type": "code",
   "execution_count": null,
   "metadata": {},
   "outputs": [],
   "source": []
  }
 ],
 "metadata": {
  "kernelspec": {
   "display_name": "Python 3",
   "language": "python",
   "name": "python3"
  },
  "language_info": {
   "codemirror_mode": {
    "name": "ipython",
    "version": 3
   },
   "file_extension": ".py",
   "mimetype": "text/x-python",
   "name": "python",
   "nbconvert_exporter": "python",
   "pygments_lexer": "ipython3",
   "version": "3.7.3"
  }
 },
 "nbformat": 4,
 "nbformat_minor": 2
}
