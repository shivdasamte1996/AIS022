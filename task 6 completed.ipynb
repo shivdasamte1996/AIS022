{
 "cells": [
  {
   "cell_type": "markdown",
   "metadata": {},
   "source": [
    "## Amate Shivdas Maruti\n",
    "\n",
    "## ID:AIS022"
   ]
  },
  {
   "cell_type": "markdown",
   "metadata": {},
   "source": [
    "### subject : Control statements"
   ]
  },
  {
   "cell_type": "markdown",
   "metadata": {},
   "source": [
    "### 1. Which are the control statements in python?"
   ]
  },
  {
   "cell_type": "markdown",
   "metadata": {},
   "source": [
    "Continue Statement, Break Statement, Pass Statement,"
   ]
  },
  {
   "cell_type": "markdown",
   "metadata": {},
   "source": [
    "### 2. A python program to test whether a given number is in between 1 and 10?\n",
    " "
   ]
  },
  {
   "cell_type": "code",
   "execution_count": 1,
   "metadata": {},
   "outputs": [
    {
     "name": "stdout",
     "output_type": "stream",
     "text": [
      "Enter a number:4\n",
      "given number is in between 1 and 10\n"
     ]
    }
   ],
   "source": [
    "a = int(input(\"Enter a number:\"))\n",
    "if a in range(1,11):\n",
    "    print(\"given number is in between 1 and 10\")\n",
    "    pass\n",
    "else:\n",
    "        print(\"given number is not in between 1 and 10\")"
   ]
  },
  {
   "cell_type": "markdown",
   "metadata": {},
   "source": [
    "### 3. Write a python program to check whether number is even or odd?\n"
   ]
  },
  {
   "cell_type": "code",
   "execution_count": 2,
   "metadata": {},
   "outputs": [
    {
     "name": "stdout",
     "output_type": "stream",
     "text": [
      "Enter a number:15\n",
      "given number is odd\n"
     ]
    }
   ],
   "source": [
    "number = int(input(\"Enter a number:\"))\n",
    "if (number % 2 == 0):\n",
    "    print(\"given number is even\")\n",
    "    pass\n",
    "else:\n",
    "    print(\"given number is odd\")"
   ]
  },
  {
   "cell_type": "markdown",
   "metadata": {},
   "source": [
    "### 4. Write a python program to check whether a list is empty or not using len () function?"
   ]
  },
  {
   "cell_type": "code",
   "execution_count": 3,
   "metadata": {},
   "outputs": [],
   "source": [
    "def Enquiry(lis1): \n",
    "    if len(lis1) == 0: \n",
    "        return 0\n",
    "    else: \n",
    "        return 1"
   ]
  },
  {
   "cell_type": "code",
   "execution_count": 5,
   "metadata": {},
   "outputs": [
    {
     "name": "stdout",
     "output_type": "stream",
     "text": [
      "Empty List\n"
     ]
    }
   ],
   "source": [
    "lis1 = [] \n",
    "if Enquiry(lis1): \n",
    "    print (\"The list is not empty\")\n",
    "    pass\n",
    "else: \n",
    "    print(\"Empty List\")"
   ]
  },
  {
   "cell_type": "markdown",
   "metadata": {},
   "source": [
    "### 5. A python program to check whether a given number is zero, positive or negative?\n"
   ]
  },
  {
   "cell_type": "code",
   "execution_count": 6,
   "metadata": {},
   "outputs": [
    {
     "name": "stdout",
     "output_type": "stream",
     "text": [
      "Enter a number: -5\n",
      "Negative number\n"
     ]
    }
   ],
   "source": [
    "num = float(input(\"Enter a number: \"))\n",
    "if num > 0:\n",
    "    print(\"Positive number\")\n",
    "    pass\n",
    "elif num == 0:\n",
    "    print(\"Zero\")\n",
    "    pass\n",
    "else:\n",
    "    print(\"Negative number\")"
   ]
  },
  {
   "cell_type": "markdown",
   "metadata": {},
   "source": [
    "### 7. Write a python program to reverse the following list using for loop?¶\n",
    "### lt1 = [12, 7, 9, 14, 5]"
   ]
  },
  {
   "cell_type": "code",
   "execution_count": 7,
   "metadata": {},
   "outputs": [
    {
     "name": "stdout",
     "output_type": "stream",
     "text": [
      "5 14 9 7 12 "
     ]
    }
   ],
   "source": [
    "lt1 = [12,7,9,14,5]\n",
    "for i in reversed(lt1):\n",
    "    print(i,end=\" \")\n",
    "    continue"
   ]
  },
  {
   "cell_type": "markdown",
   "metadata": {},
   "source": [
    "### 8. Write a python program to multiply all the items in a list using for loop?"
   ]
  },
  {
   "cell_type": "code",
   "execution_count": 8,
   "metadata": {},
   "outputs": [
    {
     "name": "stdout",
     "output_type": "stream",
     "text": [
      "52920\n"
     ]
    }
   ],
   "source": [
    "def multiply(list1):  \n",
    "    total = 1\n",
    "    for x in list1:\n",
    "        total *= x \n",
    "        pass\n",
    "    return total\n",
    "print(multiply([12,7,9,14,5]))"
   ]
  },
  {
   "cell_type": "markdown",
   "metadata": {},
   "source": [
    "### 9. Write a python program to print numbers in list which are divisible by 6 and if number is greater than 150 then stop the iteration?\n",
    "### list1 = [12, 15, 36, 20, 55, 47, 102, 150, 146, 180]"
   ]
  },
  {
   "cell_type": "code",
   "execution_count": 9,
   "metadata": {},
   "outputs": [
    {
     "name": "stdout",
     "output_type": "stream",
     "text": [
      "12\n",
      "36\n",
      "102\n",
      "150\n"
     ]
    }
   ],
   "source": [
    "list1 = [12, 15, 36, 20, 55, 47, 102, 150, 146, 180]\n",
    "for item in list1:\n",
    "    if (item > 150):\n",
    "        break\n",
    "    if(item % 6 == 0):\n",
    "        print(item)"
   ]
  },
  {
   "cell_type": "markdown",
   "metadata": {},
   "source": [
    "### 10. Write a program to count a specific letter in the string.?"
   ]
  },
  {
   "cell_type": "code",
   "execution_count": 10,
   "metadata": {},
   "outputs": [
    {
     "name": "stdout",
     "output_type": "stream",
     "text": [
      "Count of s in str1 is :  2\n"
     ]
    }
   ],
   "source": [
    "str1 = \"Assignment\"\n",
    "count = 0\n",
    "for i in str1: \n",
    "    if i == 's': \n",
    "        count = count + 1\n",
    "print (\"Count of s in str1 is : \", str(count))"
   ]
  },
  {
   "cell_type": "code",
   "execution_count": null,
   "metadata": {},
   "outputs": [],
   "source": []
  }
 ],
 "metadata": {
  "kernelspec": {
   "display_name": "Python 3",
   "language": "python",
   "name": "python3"
  },
  "language_info": {
   "codemirror_mode": {
    "name": "ipython",
    "version": 3
   },
   "file_extension": ".py",
   "mimetype": "text/x-python",
   "name": "python",
   "nbconvert_exporter": "python",
   "pygments_lexer": "ipython3",
   "version": "3.7.3"
  }
 },
 "nbformat": 4,
 "nbformat_minor": 2
}
